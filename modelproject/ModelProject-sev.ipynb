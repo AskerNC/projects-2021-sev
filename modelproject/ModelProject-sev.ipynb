{
 "cells": [
  {
   "cell_type": "markdown",
   "id": "41a84acd",
   "metadata": {},
   "source": [
    " # $$\\LARGE\\text{Model Project}$$"
   ]
  },
  {
   "cell_type": "markdown",
   "id": "a32691ed",
   "metadata": {},
   "source": [
    "## The Cournot model of oligopoly"
   ]
  },
  {
   "cell_type": "markdown",
   "id": "9a3a7801",
   "metadata": {},
   "source": [
    "In a Cournot model of oligopoly firms compete in quantity of homogenous products in a market with no collusion. The model describes the rational behaviour of the individual firm in the decision of output given the rivals decision of output. \n",
    "\n",
    "This project examines the case with two competing symmetric firms with complete information. Both firms choose output simultaneously. "
   ]
  },
  {
   "cell_type": "markdown",
   "id": "1041d216",
   "metadata": {},
   "source": [
    "### 1. Firms"
   ]
  },
  {
   "cell_type": "markdown",
   "id": "d641cb2a",
   "metadata": {},
   "source": [
    "Firm $i$ choose to produce quantity $q_i$ of a homogeneous product in a market of two firms, with both firms having the same constant marginal cost at $c$. The inverse demand function for firm $i$ is assumed to be $p_i(q_i,q_j)=a-q_i-q_j$, where $c<a$. The profit function becomes\n",
    "\n",
    "$$\\pi_i(q_i,q_j) = p_i(q_i,q_j)q_i-q_i  c$$\n",
    "\n",
    "The firms' best response functions $(BR_i)$ are calculated by maximizing the profit function. \n",
    "\n",
    "$$\\underset{q_i}{\\textbf{max}} \\hspace{0.2cm} \\pi_i(qi,qj) $$\n",
    "\n",
    "This results in \n",
    "$$BR_i(q_j) = \\frac{a-c-q_j}{2}$$\n",
    "\n",
    "Each firms best response is optimal given the best response chosen by the rival - with no incentive to deviate. \n",
    "If the quantity chosen by each firm is to be a Nash equilibrium it must satisfy the bestresponse functions. Given symmetry the Nash equilibrium output is\n",
    "\n",
    "$$q_i^* = \\frac{a-c}{3}$$"
   ]
  },
  {
   "cell_type": "code",
   "execution_count": 1,
   "id": "6c209cf8",
   "metadata": {},
   "outputs": [],
   "source": [
    "#1.a import modules\n",
    "import numpy as np\n",
    "import sympy as sm\n",
    "from numpy import array\n",
    "from scipy import linalg\n",
    "from scipy import optimize\n",
    "import matplotlib.pyplot as plt"
   ]
  },
  {
   "cell_type": "markdown",
   "id": "ac6699aa",
   "metadata": {},
   "source": [
    "### 2. Define model"
   ]
  },
  {
   "cell_type": "code",
   "execution_count": 2,
   "id": "a385c8c8",
   "metadata": {},
   "outputs": [],
   "source": [
    "#2.a Define symbols\n",
    "a = sm.symbols('a')\n",
    "c = sm.symbols('c')\n",
    "q1 = sm.symbols('q_1')\n",
    "q2 = sm.symbols('q_2')\n",
    "pi_1 = sm.symbols('\\pi_1')\n",
    "pi_2 = sm.symbols('\\pi_2')\n",
    "\n",
    "# 2.b Inverse demand function\n",
    "def inverse_demand(q1,q2,a):\n",
    "    inverse = a - q1 - q2\n",
    "    return inverse\n",
    "\n",
    "# 2.c cost functions\n",
    "def cost(q,c):\n",
    "    cost_1 = q * c\n",
    "    return cost_1\n",
    "\n",
    "# 2.d Profit functions\n",
    "def profit_firm1(q1,q2,a,c):\n",
    "    pi_1 = (inverse_demand(q1,q2,a)) * q1 - cost(q1,c)\n",
    "    return pi_1\n",
    "def profit_firm2(q1,q2,a,c):\n",
    "    pi_2 = inverse_demand(q1,q2,a) * q2 - cost(q2,c)\n",
    "    return pi_2"
   ]
  },
  {
   "cell_type": "markdown",
   "id": "be77db5a",
   "metadata": {},
   "source": [
    "### 3. How to solve the model"
   ]
  },
  {
   "cell_type": "markdown",
   "id": "1d80899a",
   "metadata": {},
   "source": [
    "$\\underline{\\text{Solve in three steps:}}$\n",
    "\n",
    "1. **maximize** profit function wrt. $q_i$ (find FOCs) and set to zero\n",
    "2. **isolate** $q_i$ from the first order conditions (find BR functions)\n",
    "3. **substitute** $q_j$ into $q_i$ (find Nash equilibrium)"
   ]
  },
  {
   "cell_type": "markdown",
   "id": "7d1449ad",
   "metadata": {},
   "source": [
    "#### 3.1 First order conditions\n",
    "The first order conditions is listed below, where FOC1 denotes the solution for firm 1, and FOC2 for firm 2. "
   ]
  },
  {
   "cell_type": "code",
   "execution_count": 3,
   "id": "9e21c5ac",
   "metadata": {
    "tags": []
   },
   "outputs": [
    {
     "name": "stdout",
     "output_type": "stream",
     "text": [
      "FOC1: a - c - 2*q_1 - q_2 = 0 \n",
      "FOC2: a - c - q_1 - 2*q_2 = 0\n",
      "\n"
     ]
    }
   ],
   "source": [
    "FOC_1 = sm.diff(profit_firm1(q1,q2,a,c),q1) #derivative wrt. q1 \n",
    "FOC_2 = sm.diff(profit_firm2(q1,q2,a,c),q2)\n",
    "print(f'FOC1: {FOC_1} = 0 \\nFOC2: {FOC_2} = 0\\n')"
   ]
  },
  {
   "cell_type": "markdown",
   "id": "343b0170",
   "metadata": {},
   "source": [
    "#### 3.2 Best response functions"
   ]
  },
  {
   "cell_type": "markdown",
   "id": "4658055f",
   "metadata": {},
   "source": [
    "The best response function for firm 1 is derived by isolating $q_1$ in FOC1 and\n",
    "same for firm 2 in FOC2. "
   ]
  },
  {
   "cell_type": "code",
   "execution_count": 4,
   "id": "6da01582",
   "metadata": {
    "tags": []
   },
   "outputs": [
    {
     "name": "stdout",
     "output_type": "stream",
     "text": [
      "BR_1(q2) = q1 = [a/2 - c/2 - q_2/2] \n",
      "BR_2(q1) = q2 = [a/2 - c/2 - q_1/2]\n",
      "\n"
     ]
    }
   ],
   "source": [
    "BR_1_sympy = sm.solve(FOC_1,q1) #solve for q1\n",
    "BR_2_sympy = sm.solve(FOC_2,q2)\n",
    "print(f'BR_1(q2) = q1 = {BR_1_sympy} \\nBR_2(q1) = q2 = {BR_2_sympy}\\n')"
   ]
  },
  {
   "cell_type": "markdown",
   "id": "7ca1202d",
   "metadata": {},
   "source": [
    "#### 3.3 Nash Equilibrium"
   ]
  },
  {
   "cell_type": "markdown",
   "id": "587352f9",
   "metadata": {},
   "source": [
    "The Nash Equilibrium can be solved for by substituting $q_1$ into $q_2$ which yields"
   ]
  },
  {
   "cell_type": "code",
   "execution_count": 5,
   "id": "8710b222",
   "metadata": {},
   "outputs": [
    {
     "name": "stdout",
     "output_type": "stream",
     "text": [
      "q^*_i = [a/3 - c/3]\n",
      "p^*  = a/3 + 2*c/3\n"
     ]
    }
   ],
   "source": [
    "BR1_sympy = a/2-c/2-q2/2\n",
    "BR2_sympy = a/2-c/2-q1/2 - q2\n",
    "SUB = BR2_sympy.subs(q1,BR1_sympy)\n",
    "NE_q = sm.solve(SUB,q2)\n",
    "quan = (a-c)/3\n",
    "SUB2 = inverse_demand(q1,q2,a).subs(q1,quan)\n",
    "NE_p = SUB2.subs(q2,quan)\n",
    "print(f'q^*_i = {NE_q}')\n",
    "print(f'p^*  = {NE_p}')"
   ]
  },
  {
   "cell_type": "markdown",
   "id": "512b2eeb",
   "metadata": {},
   "source": [
    "Which shows the Nash Equilibrium quantity, $q_i^*$, and the equilibrium price $p^*$, where $c1=c2$."
   ]
  },
  {
   "cell_type": "markdown",
   "id": "663133cc",
   "metadata": {},
   "source": [
    "### 4. Example of how to solve the problem"
   ]
  },
  {
   "cell_type": "markdown",
   "id": "c5a3ddc2",
   "metadata": {},
   "source": [
    "In this section I derive the best response function for each firm by maximizing their respective profit function. The best response functions are then used to find the Nash Equilibrium, i.e. the optimal choice of quantity given the other firms' choice of quantity. This procedure is described in section 3. "
   ]
  },
  {
   "cell_type": "markdown",
   "id": "f3b8b210",
   "metadata": {},
   "source": [
    "#### 4.1 Model analysis"
   ]
  },
  {
   "cell_type": "code",
   "execution_count": 14,
   "id": "42127ef7",
   "metadata": {},
   "outputs": [
    {
     "name": "stdout",
     "output_type": "stream",
     "text": [
      "With parameter values of [a,c] = [11, 2], the Nash equilibrium quantities is (q1,q2) = [2.99999999 2.99999999].\n",
      "This gives an equilibrium price of p = 5.0.\n",
      "Both companies achieve same profit of (pi_1, pi_2) = [8.99999998 8.99999998].\n",
      "\n"
     ]
    }
   ],
   "source": [
    "#4.a the optimization setup does not always work without running the code below.\n",
    "#del a, c1, c2, q1, q2, pi_1, pi_2\n",
    "\n",
    "#4.b Define best response functions\n",
    "q0=0\n",
    "def BR_1_analysis(q2,a,c):\n",
    "    opt_q1 = optimize.minimize(lambda q0: -profit_firm1(q0,q2,a,c), q2).x[0]\n",
    "    return opt_q1\n",
    "\n",
    "def BR_2_analysis(q1,a,c):\n",
    "    opt_q2 = optimize.minimize(lambda q0: -profit_firm2(q1,q0,a,c), q1).x[0]\n",
    "    return opt_q2\n",
    "\n",
    "def conditions_analysis(q,param):\n",
    "    u = q[0] - BR_1_analysis(q[1],param[0],param[1])\n",
    "    y = q[1] - BR_2_analysis(q[0],param[0],param[1])\n",
    "    return [u,y]\n",
    "\n",
    "#4.c Define parametervalues [a,c]\n",
    "param = [11,2] \n",
    "\n",
    "#4.d Solve optimization problem\n",
    "initial_values = [1,1] \n",
    "opt_q_i = optimize.fsolve(conditions_analysis,initial_values, args = (param))\n",
    "opt_p = param[0]/3 + 2*param[1]/3\n",
    "profit_i = opt_p * opt_q_i - param[1] * opt_q_i\n",
    "\n",
    "print(f'With parameter values of [a,c] = {param}, the Nash equilibrium quantities is (q1,q2) = {opt_q_i}.\\nThis gives an equilibrium price of p = {opt_p}.')\n",
    "print(f'Both companies achieve same profit of (pi_1, pi_2) = {profit_i}.\\n')"
   ]
  },
  {
   "cell_type": "markdown",
   "id": "7653b024",
   "metadata": {},
   "source": [
    "#### 4.2 Graphical analysis of best response functions"
   ]
  },
  {
   "cell_type": "code",
   "execution_count": 20,
   "id": "01ad562f",
   "metadata": {},
   "outputs": [
    {
     "name": "stdout",
     "output_type": "stream",
     "text": [
      "Note: the Figure is misleading with the negative quantities on the axis'; negative quantities are not feasible.\n",
      "I have not find a way to solve this problem yet.\n"
     ]
    },
    {
     "data": {
      "image/png": "[encoded data removed]",
      "text/plain": [
       "<Figure size 864x360 with 1 Axes>"
      ]
     },
     "metadata": {},
     "output_type": "display_data"
    }
   ],
   "source": [
    "#4.e Define reactions functions\n",
    "def q1_graphic(q2,param): #parameters can be changed in section 4, code 4.c\n",
    "    return (param[0]-param[1]-q2)/2\n",
    "\n",
    "def q2_graphic(q1,param):\n",
    "    return (param[0]-param[1]-q1)/2\n",
    "\n",
    "#4.f Create best response to multiple q values\n",
    "range_q1 = np.linspace(-10,20,100)\n",
    "range_q2 = np.linspace(-10,20,100)\n",
    "q1_plot = q1_graphic(range_q2,param)\n",
    "q2_plot = q2_graphic(range_q1,param)\n",
    "\n",
    "#4.g Plot best response functions\n",
    "fig = plt.figure(figsize=(12,5)) \n",
    "plt.style.use('fivethirtyeight')\n",
    "ax_fig1 = fig.add_subplot(1,2,1)\n",
    "plt.plot(q1_plot,range_q2, label = '$BR_1(q_2)$')\n",
    "plt.plot(range_q1,q2_plot, label = '$BR_2(q_1)$')\n",
    "plt.title('Figure 1 - Bestresponse functions', fontsize=15)\n",
    "plt.plot(opt_q_i,opt_q_i,'ko')\n",
    "plt.xlabel('Quantity produced by firm 1')\n",
    "plt.ylabel('Quantity produced by firm 2')\n",
    "\n",
    "ax_fig1.set_xlim(0,10)\n",
    "ax_fig1.set_ylim(0,10)\n",
    "\n",
    "ax_fig1.grid(True)\n",
    "plt.legend(loc=\"best\")\n",
    "print(\"Note: the Figure is misleading with the negative quantities on the axis'; negative quantities are not feasible.\\nI have not find a way to solve this problem yet.\")"
   ]
  },
  {
   "cell_type": "markdown",
   "id": "bf04d71d",
   "metadata": {},
   "source": [
    "The two best response functions in Figure 1 intersect at the black dot and represents the Nash Equilibrium quantities found in section 4.1. Both functions decreases in the rival firm's quantity; the intuition is that whenever one firm increase output it is optimal for the rival to decrease quantity. "
   ]
  },
  {
   "cell_type": "markdown",
   "id": "fe813b79",
   "metadata": {},
   "source": [
    "#### 4.3 How does increasing marginal cost affect the equilibrium?"
   ]
  },
  {
   "cell_type": "code",
   "execution_count": 24,
   "id": "5e17b207",
   "metadata": {},
   "outputs": [
    {
     "name": "stdout",
     "output_type": "stream",
     "text": [
      "a = 11, c = 1.0 --> q = 3.33, p = 4.33 --> Profit = 11.11\n",
      "a = 11, c = 2.0 --> q = 3.00, p = 5.00 --> Profit = 9.00\n",
      "a = 11, c = 3.0 --> q = 2.67, p = 5.67 --> Profit = 7.11\n",
      "a = 11, c = 4.0 --> q = 2.33, p = 6.33 --> Profit = 5.44\n",
      "a = 11, c = 5.0 --> q = 2.00, p = 7.00 --> Profit = 4.00\n",
      "a = 11, c = 6.0 --> q = 1.67, p = 7.67 --> Profit = 2.78\n",
      "a = 11, c = 7.0 --> q = 1.33, p = 8.33 --> Profit = 1.78\n",
      "a = 11, c = 8.0 --> q = 1.00, p = 9.00 --> Profit = 1.00\n",
      "a = 11, c = 9.0 --> q = 0.67, p = 9.67 --> Profit = 0.44\n",
      "a = 11, c = 10.0 --> q = 0.33, p = 10.33 --> Profit = 0.11\n"
     ]
    }
   ],
   "source": [
    "#4.h Calculate equilibrium at different costs\n",
    "c_vec = np.linspace(1,10,10)\n",
    "\n",
    "q_vec = []\n",
    "for c in c_vec:\n",
    "    q = (param[0]-c)/3\n",
    "    \n",
    "    q_vec.append(q)\n",
    "    \n",
    "    pi = (param[0]-q-q-c)*q\n",
    "    p = param[0]/3 + 2*c/3\n",
    "    print(f'a = {param[0]}, c = {c} --> q = {q:.2f}, p = {p:.2f} --> Profit = {pi:.2f}')\n",
    "\n",
    "#4.i Code does not work (want to plot marginal cost against equilibrium quantity)\n",
    "#plt.plot(c_vec,q)\n",
    "#plt.title('Figure 2 - Equilibrium quantity given c', fontsize=15)\n",
    "#plt.xlabel('Marginal cost')\n",
    "#plt.ylabel('Equilibrium quantity')\n",
    "#ax_fig1.grid(True)"
   ]
  },
  {
   "cell_type": "code",
   "execution_count": 26,
   "id": "bd3b04dd-2133-4607-aa75-66cd31218b89",
   "metadata": {},
   "outputs": [
    {
     "data": {
      "image/png": "[encoded data removed]",
      "text/plain": [
       "<Figure size 432x288 with 1 Axes>"
      ]
     },
     "metadata": {},
     "output_type": "display_data"
    }
   ],
   "source": [
    "#q = [(param[0]-c)/3 for c in c_vec]\n",
    "q_vec = (param[0]-c_vec)/3\n",
    "plt.plot(c_vec,q_vec)\n",
    "\n",
    "plt.title('Figure 2 - Equilibrium quantity given c', fontsize=15)\n",
    "plt.xlabel('Marginal cost')\n",
    "plt.ylabel('Equilibrium quantity')\n",
    "ax_fig1.grid(True)"
   ]
  },
  {
   "cell_type": "markdown",
   "id": "f072f662",
   "metadata": {},
   "source": [
    "This output shows that increasing marginal costs decreases amount of quantity produced in equilibrium per firm. The intuition is that increasing marginal costs makes it more expensive for the firms to produce goods, which leads them to increase prices by lowering amount of goods produced. \n",
    "\n"
   ]
  },
  {
   "cell_type": "markdown",
   "id": "c79a659a",
   "metadata": {},
   "source": [
    "### 5. What happens if more firms enters the market?"
   ]
  },
  {
   "cell_type": "markdown",
   "id": "0a2a7d94",
   "metadata": {},
   "source": [
    "I will now introduce a third firm. Each firms profit is now \n",
    "$$\\pi_i(q_i,q_j,q_k) = p_i(q_i,q_j,q_k)q_i-q_i  c, \\hspace{0.2cm}\\\\ p_i=a-q_1-q_2-q_3$$\n",
    "\n",
    "The firms' best response functions $(BR_i)$ are calculated by maximizing the profit function. \n",
    "\n",
    "$$\\underset{q_i}{\\textbf{max}} \\hspace{0.2cm} \\pi_i(qi,qj,q_k) $$\n",
    "\n",
    "This results in \n",
    "$$BR_i(q_j,q_k) = \\frac{a-c-q_j-q_k}{2}$$\n",
    "\n",
    "The Nash equilibrium quantity becomes\n",
    "$$q_i^* = \\frac{a-c}{4}$$\n",
    "\n",
    "The parametervalues for $a$ and $c$ are defined in codeline 4.c. Results will be compared with results from sections 4.1 in order to conclude what affect a third firm has on the market.\n",
    "\n",
    "$\\underline{\\text{Solve in three steps:}}$\n",
    "1. **maximize** profit function wrt. $q_i$ (find FOCs)\n",
    "2. **isolate** $q_i$ from the first order conditions (find BR functions)\n",
    "3. **substitute** $q_j$ and $q_k$ into $q_i$ (find Nash equilibrium)"
   ]
  },
  {
   "cell_type": "code",
   "execution_count": 29,
   "id": "972b7ad1",
   "metadata": {
    "scrolled": true,
    "tags": []
   },
   "outputs": [
    {
     "name": "stdout",
     "output_type": "stream",
     "text": [
      "With parameter values of [a,c] = [20, 3], the Nash equilibrium quantities is (q1,q2,q3) = [4.24999929 4.25000079 4.24999975].\n",
      "This gives an equilibrium price of p = 7.25.\n",
      "Both companies achieve same profit of (pi_1, pi_2) = [18.062497   18.06250335 18.06249895].\n",
      "\n"
     ]
    }
   ],
   "source": [
    "#5.a define inverse demand function\n",
    "def inverse_morefirms(q1,q2,q3,a):\n",
    "    demand = a - q1 - q2 - q3\n",
    "    return demand\n",
    "\n",
    "#5.b define profit functions\n",
    "def profit_firm1_morefirms(q1,q2,q3,a,c):\n",
    "    return inverse_morefirms(q1,q2,q3,a) * q1 - cost(q1,c)\n",
    "def profit_firm2_morefirms(q1,q2,q3,a,c):\n",
    "    return inverse_morefirms(q1,q2,q3,a) * q2 - cost(q2,c)\n",
    "def profit_firm3_morefirms(q1,q2,q3,a,c):\n",
    "    return inverse_morefirms(q1,q2,q3,a) * q3 - cost(q3,c)\n",
    "\n",
    "#5.c define bestresponse functions by maximizing profits\n",
    "def BR1_morefirms(q2,q3,a,c):\n",
    "    optimal_q1 = optimize.minimize(lambda q0: -profit_firm1_morefirms(q0,q2,q3,a,c), q0).x[0]\n",
    "    \n",
    "    return optimal_q1\n",
    "def BR2_morefirms(q1,q3,a,c):\n",
    "    optimal_q2 = optimize.minimize(lambda q0: -profit_firm2_morefirms(q1,q0,q3,a,c), q0).x[0]\n",
    "    return optimal_q2\n",
    "def BR3_morefirms(q1,q2,a,c):\n",
    "    optimal_q3 = optimize.minimize(lambda q0: -profit_firm3_morefirms(q1,q2,q0,a,c), q0).x[0]\n",
    "    return optimal_q3\n",
    "\n",
    "#5.d conditions\n",
    "def conditions_morefirms(q,param):\n",
    "    u = q[0] - BR1_morefirms(q[1],q[2],param[0],param[1])\n",
    "    y = q[1] - BR2_morefirms(q[0],q[2],param[0],param[1])\n",
    "    z = q[2] - BR3_morefirms(q[0],q[1],param[0],param[1])\n",
    "    return [u,y,z]\n",
    "\n",
    "\n",
    "param  = [20,3]\n",
    "#5.e solution and print\n",
    "inital_values = [1,1,1]\n",
    "opt_qi_morefirms = optimize.fsolve(conditions_morefirms,inital_values, args = (param))\n",
    "opt_p_morefirms = param[0] - 3/4 * (param[0]-param[1])\n",
    "profit_i_morefirms = opt_p_morefirms * opt_qi_morefirms - param[1] * opt_qi_morefirms\n",
    "\n",
    "print(f'With parameter values of [a,c] = {param}, the Nash equilibrium quantities is (q1,q2,q3) = {opt_qi_morefirms}.\\nThis gives an equilibrium price of p = {opt_p_morefirms}.')\n",
    "print(f'Both companies achieve same profit of (pi_1, pi_2) = {profit_i_morefirms}.\\n')"
   ]
  },
  {
   "cell_type": "code",
   "execution_count": 123,
   "id": "0879615e-ac69-4550-aa8f-f123e55b9e06",
   "metadata": {},
   "outputs": [],
   "source": [
    "def inverse_nfirms(a,q_vec):\n",
    "    demand = a - np.sum(q_vec)\n",
    "    return demand\n",
    "\n",
    "def profit_firm_i(a,c,q_vec,i,q_i):\n",
    "    # update q_i\n",
    "    q_vec[i]=q_i\n",
    "    \n",
    "    return inverse_nfirms(a,q_vec) * q_i - cost(q_i,c)\n",
    "\n",
    "def BR_nfirms(a,c,q_vec,q_i,i):\n",
    "    optimal_q_i = optimize.minimize(lambda q0: -profit_firm_i(a,c,q_vec,i,q0),x0=np.mean(q_vec)).x[0]\n",
    "    \n",
    "    return optimal_q_i\n",
    "\n",
    "\n",
    "def conditions_nfirms(q_vec,param):\n",
    "    conds = [q_i-BR_nfirms(param[0],param[1],q_vec,q_i,i) for i,q_i in enumerate(q_vec)]\n",
    "        \n",
    "    return conds\n",
    "\n",
    "def solve_model(param,n):\n",
    "    q0_vec = [1 for i in range(n)] # n firms\n",
    "    res = optimize.root(conditions_nfirms,q0_vec, args = (param))\n",
    "    opt_qi_nfirms = res.x\n",
    "\n",
    "    opt_p_nfirms = param[0]-np.sum(opt_qi_nfirms)\n",
    "    \n",
    "    return opt_qi_nfirms,opt_p_nfirms"
   ]
  },
  {
   "cell_type": "code",
   "execution_count": 124,
   "id": "db27afab-c6ec-4b11-a682-db1289213664",
   "metadata": {},
   "outputs": [],
   "source": [
    "n_vec = range(2,20)\n",
    "p_vec = [solve_model(param,n)[1] for n in n_vec]"
   ]
  },
  {
   "cell_type": "code",
   "execution_count": 125,
   "id": "568f3d58-0daa-4dcc-b5ee-8ac27e0acf80",
   "metadata": {},
   "outputs": [
    {
     "data": {
      "image/png": "[encoded data removed]",
      "text/plain": [
       "<Figure size 432x288 with 1 Axes>"
      ]
     },
     "metadata": {},
     "output_type": "display_data"
    }
   ],
   "source": [
    "plt.plot(n_vec,p_vec)\n",
    "\n",
    "plt.title('Equilibrium price given n', fontsize=15)\n",
    "plt.xlabel('price given n firms')\n",
    "plt.ylabel('Equilibrium price')\n",
    "ax_fig1.grid(True)"
   ]
  },
  {
   "cell_type": "code",
   "execution_count": 138,
   "id": "7c73e4b4-a855-48c8-beff-023d58bc526a",
   "metadata": {},
   "outputs": [],
   "source": [
    "def conditions_nfirms_fast(q_i,param,n):\n",
    "    \n",
    "    # Assume all firms react the same \n",
    "    q_vec = [q_i[0] for i in range(n)]\n",
    "    cond = q_i[0]-BR_nfirms(param[0],param[1],q_vec,q_i,0)\n",
    "    \n",
    "    return cond\n",
    "\n",
    "def solve_model_fast(param,n):\n",
    "    #q0_vec = [1 for i in range(n)] # n firms\n",
    "    q0 = [1]\n",
    "    res = optimize.root(conditions_nfirms_fast,q0, args = (param,n))\n",
    "    opt_qi_nfirms = res.x[0]\n",
    "\n",
    "    opt_p_nfirms = param[0]-opt_qi_nfirms*n\n",
    "    \n",
    "    return opt_qi_nfirms,opt_p_nfirms"
   ]
  },
  {
   "cell_type": "code",
   "execution_count": 139,
   "id": "c8f2d772-73ae-4f3b-9733-f7952fa61add",
   "metadata": {
    "tags": []
   },
   "outputs": [],
   "source": [
    "n_vec = range(2,50)\n",
    "p_vec = [solve_model(param,n)[1] for n in n_vec]"
   ]
  },
  {
   "cell_type": "code",
   "execution_count": 140,
   "id": "278cd7ba-150c-4cdf-9f99-8b976ab221c1",
   "metadata": {
    "tags": []
   },
   "outputs": [
    {
     "data": {
      "image/png": "[encoded data removed]",
      "text/plain": [
       "<Figure size 432x288 with 1 Axes>"
      ]
     },
     "metadata": {},
     "output_type": "display_data"
    }
   ],
   "source": [
    "plt.plot(n_vec,p_vec)\n",
    "\n",
    "plt.title('Equilibrium price given n', fontsize=15)\n",
    "plt.xlabel('price given n firms')\n",
    "plt.ylabel('Equilibrium price')\n",
    "ax_fig1.grid(True)"
   ]
  },
  {
   "cell_type": "markdown",
   "id": "d5f02b09",
   "metadata": {},
   "source": [
    "These results indicates a decreasing price and quantity produced by each firm when a third firm enter the market compared to the case with two firms. The intuition is that as firms increase in the market, power of each firm becomes smaller and equilibrium values come closer to the perfect competition outcome; market price equals marginal cost of production and zero profits."
   ]
  },
  {
   "cell_type": "markdown",
   "id": "a83b13ca",
   "metadata": {},
   "source": [
    "### 6. Conslusion"
   ]
  },
  {
   "cell_type": "markdown",
   "id": "e8b0c7e5",
   "metadata": {},
   "source": [
    "In a Cournot model of duopoly firms choice of production depends on the rivals production as illustrated in Figure 1. I found that the equilibrium market price is higher than the marginal cost of production, which means that firms do not price and produce as in perfect competition situation. In section 4.3 I found that increasing marginal cost of production leads the market into af perfect competition situation since profit converges towards zero as the marginal cost increases. \n",
    "Adding a third firm to the market resulted in decreasing price and quantity, i.e. the existing firms were worse off. "
   ]
  }
 ],
 "metadata": {
  "kernelspec": {
   "display_name": "Python 3",
   "language": "python",
   "name": "python3"
  },
  "language_info": {
   "codemirror_mode": {
    "name": "ipython",
    "version": 3
   },
   "file_extension": ".py",
   "mimetype": "text/x-python",
   "name": "python",
   "nbconvert_exporter": "python",
   "pygments_lexer": "ipython3",
   "version": "3.8.8"
  }
 },
 "nbformat": 4,
 "nbformat_minor": 5
}
